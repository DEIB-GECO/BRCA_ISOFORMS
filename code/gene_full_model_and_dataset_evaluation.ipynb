{
  "cells": [
    {
      "cell_type": "markdown",
      "metadata": {
        "id": "WZrWMJdZj9Ml"
      },
      "source": [
        "## Comparison of models performance of explored and selected feature spaces when having GENES EXPRESSION VALUES as features\n",
        "\n",
        "**In this notebook all the combinations of models, datasets, preprocessing methods done until now will be joined together. The focus will be on scalability, dinamicity and correct saving of the results.**\n",
        "\n",
        "\n",
        "\n",
        "\n",
        "\n"
      ]
    },
    {
      "cell_type": "markdown",
      "metadata": {
        "id": "NycpltI6jw3z"
      },
      "source": [
        "USEFUL LINKS:\n",
        "\n",
        "https://towardsdatascience.com/feature-selection-using-regularisation-a3678b71e499\n",
        "\n",
        "https://scikit-learn.org/stable/modules/generated/sklearn.feature_selection.SelectFromModel.html#sklearn.feature_selection.SelectFromModel"
      ]
    },
    {
      "cell_type": "markdown",
      "metadata": {
        "id": "rF5TioewxTdK"
      },
      "source": [
        "### Imports section: \n"
      ]
    },
    {
      "cell_type": "code",
      "execution_count": 1,
      "metadata": {
        "colab": {
          "base_uri": "https://localhost:8080/"
        },
        "id": "Hw0MVKdRVoTq",
        "outputId": "a33dd792-8a3a-47cd-d426-e0a97f40669a"
      },
      "outputs": [
        {
          "output_type": "stream",
          "name": "stdout",
          "text": [
            "Mounted at /content/Drive\n"
          ]
        }
      ],
      "source": [
        "# mount Google Drive\n",
        "from google.colab import drive\n",
        "drive.mount('/content/Drive')"
      ]
    },
    {
      "cell_type": "code",
      "source": [
        "# uncomment to install libraries\n",
        "# ! pip install mrmr_selection\n",
        "# ! pip install scikit-learn==0.24.2 # Downgrading the scikit learn library to obtain same results of previous experiments and Convergence"
      ],
      "metadata": {
        "id": "VeUQE9hJeqUO"
      },
      "execution_count": null,
      "outputs": []
    },
    {
      "cell_type": "code",
      "execution_count": 3,
      "metadata": {
        "id": "mFaV9WnyVwo1"
      },
      "outputs": [],
      "source": [
        "# Imports\n",
        "import pandas as pd\n",
        "import numpy as np\n",
        "from sklearn.preprocessing import LabelEncoder\n",
        "from sklearn.model_selection import KFold, StratifiedKFold, train_test_split, GridSearchCV\n",
        "from sklearn.metrics import precision_score, recall_score, accuracy_score, balanced_accuracy_score, f1_score, matthews_corrcoef, classification_report, make_scorer\n",
        "from sklearn.linear_model import LogisticRegression, Lasso\n",
        "import matplotlib.pyplot as plt\n",
        "from xlwt import Workbook\n",
        "from sklearn.metrics import confusion_matrix\n",
        "from sklearn.utils.multiclass import unique_labels\n",
        "import os\n",
        "from pandas_profiling import ProfileReport\n",
        "from sklearn import svm\n",
        "from sklearn.svm import SVC\n",
        "from datetime import datetime\n",
        "from sklearn.feature_selection import SelectFromModel\n",
        "import mrmr\n",
        "# select top K features using mRMR\n",
        "from mrmr import mrmr_classif"
      ]
    },
    {
      "cell_type": "code",
      "execution_count": null,
      "metadata": {
        "id": "iDpF8rN0Vyfc"
      },
      "outputs": [],
      "source": [
        "import warnings\n",
        "warnings.filterwarnings('ignore')"
      ]
    },
    {
      "cell_type": "markdown",
      "source": [
        "## Retrieval of Gene Expression Data and comparison with Isoform Datasets"
      ],
      "metadata": {
        "id": "5GJDpCIMkc8c"
      }
    },
    {
      "cell_type": "markdown",
      "metadata": {
        "id": "ay3Xy-3nxZHx"
      },
      "source": [
        "### Download of all datasets with different preprocessing strategies and feature spaces"
      ]
    },
    {
      "cell_type": "code",
      "execution_count": 40,
      "metadata": {
        "colab": {
          "base_uri": "https://localhost:8080/"
        },
        "id": "pLS8a3QiV22W",
        "outputId": "f2a22cef-4f8f-4bd9-97e4-9f93ab1c5921"
      },
      "outputs": [
        {
          "output_type": "stream",
          "name": "stdout",
          "text": [
            "/content\n",
            "(818, 20440)\n"
          ]
        }
      ],
      "source": [
        "# Current working directory and other paths\n",
        "cwd = os.getcwd()\n",
        "print(cwd)\n",
        "!cd Drive/\n",
        "path = cwd + \"/Drive/My Drive/magistrale/BioinformaticsProject/data/\"\n",
        "results_path = cwd + \"/Drive/My Drive/magistrale/BioinformaticsProject/results/\"\n",
        "\n",
        "# Dataset with gene expression \n",
        "gene_dataset = pd.read_csv(path+\"gene_expression_data_and_metadata/data_mrna_seq_v2_rsem.txt\" , index_col= 0 , sep='\\t') \n",
        "gene_dataset = gene_dataset.transpose() # (818, 20440)\n",
        "# remove first column about entrez_gene_id\n",
        "gene_dataset = gene_dataset.iloc[1: , :]\n",
        "print(gene_dataset.shape)\n",
        "# Training and Testing datasets\n",
        "training_ds =  pd.read_excel(path+\"train_test_new.xlsx\", sheet_name=\"train_new\")\n",
        "testing_ds = pd.read_excel(path+\"train_test_new.xlsx\", sheet_name=\"test_new\")"
      ]
    },
    {
      "cell_type": "code",
      "source": [
        "# feature spaces \n",
        "pam_fs =  pd.read_csv(path+\"gene_expression_data_and_metadata/PAM50.txt\" , index_col= 0 , sep='\\t') \n",
        "limma_fs =  pd.read_csv(path+\"gene_expression_data_and_metadata/LIMMA50.txt\" , index_col= 0 , sep='\\t') \n",
        "\n",
        "pam_fs.reset_index(inplace=True)\n",
        "limma_fs.reset_index(inplace=True)"
      ],
      "metadata": {
        "id": "3fUWNe9x0h2q"
      },
      "execution_count": 41,
      "outputs": []
    },
    {
      "cell_type": "markdown",
      "source": [
        "### create the cpm"
      ],
      "metadata": {
        "id": "dwqexCr35el2"
      }
    },
    {
      "cell_type": "code",
      "source": [
        "cpm_dataset_1 = gene_dataset.div(gene_dataset.sum(axis=1), axis=0)\n",
        "cpm_dataset_end = cpm_dataset_1 * 1000000\n",
        "cpm_dataset = cpm_dataset_end\n",
        "cpm_dataset.shape"
      ],
      "metadata": {
        "id": "L9SDOOFlnBGH",
        "colab": {
          "base_uri": "https://localhost:8080/"
        },
        "outputId": "f7e1582a-411e-4731-a415-f11b18e28fcc"
      },
      "execution_count": 44,
      "outputs": [
        {
          "output_type": "execute_result",
          "data": {
            "text/plain": [
              "(817, 20440)"
            ]
          },
          "metadata": {},
          "execution_count": 44
        }
      ]
    },
    {
      "cell_type": "code",
      "source": [
        "cpm_dataset.columns.name = ''\n",
        "cpm_dataset.index.rename('sample_id', inplace=True)\n",
        "cpm_dataset.index = cpm_dataset.index.str[: -3] # removal of -01 from cpm sample id which is not relevant for recognition\n",
        "cpm_dataset.head()"
      ],
      "metadata": {
        "id": "9UgMTQ8fBiXZ"
      },
      "execution_count": null,
      "outputs": []
    },
    {
      "cell_type": "code",
      "source": [
        "# don't reset index since the sample ids have to be the indexes\n",
        "# cpm_dataset.reset_index(inplace=True)"
      ],
      "metadata": {
        "id": "k79jkwlNB1Vg"
      },
      "execution_count": 46,
      "outputs": []
    },
    {
      "cell_type": "markdown",
      "source": [
        "### filtering the genes that have expression data at the beginning lower than 4 for more than 80% of the samples."
      ],
      "metadata": {
        "id": "B2FGU63rfY4b"
      }
    },
    {
      "cell_type": "code",
      "source": [
        "y = (gene_dataset[gene_dataset < 4].count() /818 > 0.8)\n",
        "y = y[y==True]\n",
        "y = y.reset_index()\n",
        "print(y[''])"
      ],
      "metadata": {
        "id": "Pi-NfQJ2g_xL"
      },
      "execution_count": null,
      "outputs": []
    },
    {
      "cell_type": "code",
      "source": [
        "gene_dataset.drop(y[''], axis=1, inplace=True)\n",
        "gene_dataset.head()"
      ],
      "metadata": {
        "id": "94KDSP33pUPg"
      },
      "execution_count": 49,
      "outputs": []
    },
    {
      "cell_type": "code",
      "source": [
        "cpm_dataset.drop(y[''], axis=1, inplace=True)\n",
        "cpm_dataset.head()"
      ],
      "metadata": {
        "id": "wCwmln9Jpz1g"
      },
      "execution_count": null,
      "outputs": []
    },
    {
      "cell_type": "markdown",
      "source": [
        "### Evaluation of the median values"
      ],
      "metadata": {
        "id": "-5rkIROp6KCl"
      }
    },
    {
      "cell_type": "code",
      "source": [
        "med = cpm_dataset.median()\n",
        "med.sort_values(inplace=True)\n",
        "md = pd.DataFrame(med)\n",
        "md.describe()"
      ],
      "metadata": {
        "id": "4ot9vAw3tnW9",
        "colab": {
          "base_uri": "https://localhost:8080/",
          "height": 300
        },
        "outputId": "7bf14f41-d986-4cc4-ec1e-6f9db3ea4b1c"
      },
      "execution_count": 131,
      "outputs": [
        {
          "output_type": "execute_result",
          "data": {
            "text/plain": [
              "                  0\n",
              "count  12385.000000\n",
              "mean      67.930497\n",
              "std      161.769492\n",
              "min        1.771260\n",
              "25%       14.313548\n",
              "50%       32.231245\n",
              "75%       69.246955\n",
              "max     5606.966389"
            ],
            "text/html": [
              "\n",
              "  <div id=\"df-dd1a347e-0f62-4ee6-9354-09e1457a7516\">\n",
              "    <div class=\"colab-df-container\">\n",
              "      <div>\n",
              "<style scoped>\n",
              "    .dataframe tbody tr th:only-of-type {\n",
              "        vertical-align: middle;\n",
              "    }\n",
              "\n",
              "    .dataframe tbody tr th {\n",
              "        vertical-align: top;\n",
              "    }\n",
              "\n",
              "    .dataframe thead th {\n",
              "        text-align: right;\n",
              "    }\n",
              "</style>\n",
              "<table border=\"1\" class=\"dataframe\">\n",
              "  <thead>\n",
              "    <tr style=\"text-align: right;\">\n",
              "      <th></th>\n",
              "      <th>0</th>\n",
              "    </tr>\n",
              "  </thead>\n",
              "  <tbody>\n",
              "    <tr>\n",
              "      <th>count</th>\n",
              "      <td>12385.000000</td>\n",
              "    </tr>\n",
              "    <tr>\n",
              "      <th>mean</th>\n",
              "      <td>67.930497</td>\n",
              "    </tr>\n",
              "    <tr>\n",
              "      <th>std</th>\n",
              "      <td>161.769492</td>\n",
              "    </tr>\n",
              "    <tr>\n",
              "      <th>min</th>\n",
              "      <td>1.771260</td>\n",
              "    </tr>\n",
              "    <tr>\n",
              "      <th>25%</th>\n",
              "      <td>14.313548</td>\n",
              "    </tr>\n",
              "    <tr>\n",
              "      <th>50%</th>\n",
              "      <td>32.231245</td>\n",
              "    </tr>\n",
              "    <tr>\n",
              "      <th>75%</th>\n",
              "      <td>69.246955</td>\n",
              "    </tr>\n",
              "    <tr>\n",
              "      <th>max</th>\n",
              "      <td>5606.966389</td>\n",
              "    </tr>\n",
              "  </tbody>\n",
              "</table>\n",
              "</div>\n",
              "      <button class=\"colab-df-convert\" onclick=\"convertToInteractive('df-dd1a347e-0f62-4ee6-9354-09e1457a7516')\"\n",
              "              title=\"Convert this dataframe to an interactive table.\"\n",
              "              style=\"display:none;\">\n",
              "        \n",
              "  <svg xmlns=\"http://www.w3.org/2000/svg\" height=\"24px\"viewBox=\"0 0 24 24\"\n",
              "       width=\"24px\">\n",
              "    <path d=\"M0 0h24v24H0V0z\" fill=\"none\"/>\n",
              "    <path d=\"M18.56 5.44l.94 2.06.94-2.06 2.06-.94-2.06-.94-.94-2.06-.94 2.06-2.06.94zm-11 1L8.5 8.5l.94-2.06 2.06-.94-2.06-.94L8.5 2.5l-.94 2.06-2.06.94zm10 10l.94 2.06.94-2.06 2.06-.94-2.06-.94-.94-2.06-.94 2.06-2.06.94z\"/><path d=\"M17.41 7.96l-1.37-1.37c-.4-.4-.92-.59-1.43-.59-.52 0-1.04.2-1.43.59L10.3 9.45l-7.72 7.72c-.78.78-.78 2.05 0 2.83L4 21.41c.39.39.9.59 1.41.59.51 0 1.02-.2 1.41-.59l7.78-7.78 2.81-2.81c.8-.78.8-2.07 0-2.86zM5.41 20L4 18.59l7.72-7.72 1.47 1.35L5.41 20z\"/>\n",
              "  </svg>\n",
              "      </button>\n",
              "      \n",
              "  <style>\n",
              "    .colab-df-container {\n",
              "      display:flex;\n",
              "      flex-wrap:wrap;\n",
              "      gap: 12px;\n",
              "    }\n",
              "\n",
              "    .colab-df-convert {\n",
              "      background-color: #E8F0FE;\n",
              "      border: none;\n",
              "      border-radius: 50%;\n",
              "      cursor: pointer;\n",
              "      display: none;\n",
              "      fill: #1967D2;\n",
              "      height: 32px;\n",
              "      padding: 0 0 0 0;\n",
              "      width: 32px;\n",
              "    }\n",
              "\n",
              "    .colab-df-convert:hover {\n",
              "      background-color: #E2EBFA;\n",
              "      box-shadow: 0px 1px 2px rgba(60, 64, 67, 0.3), 0px 1px 3px 1px rgba(60, 64, 67, 0.15);\n",
              "      fill: #174EA6;\n",
              "    }\n",
              "\n",
              "    [theme=dark] .colab-df-convert {\n",
              "      background-color: #3B4455;\n",
              "      fill: #D2E3FC;\n",
              "    }\n",
              "\n",
              "    [theme=dark] .colab-df-convert:hover {\n",
              "      background-color: #434B5C;\n",
              "      box-shadow: 0px 1px 3px 1px rgba(0, 0, 0, 0.15);\n",
              "      filter: drop-shadow(0px 1px 2px rgba(0, 0, 0, 0.3));\n",
              "      fill: #FFFFFF;\n",
              "    }\n",
              "  </style>\n",
              "\n",
              "      <script>\n",
              "        const buttonEl =\n",
              "          document.querySelector('#df-dd1a347e-0f62-4ee6-9354-09e1457a7516 button.colab-df-convert');\n",
              "        buttonEl.style.display =\n",
              "          google.colab.kernel.accessAllowed ? 'block' : 'none';\n",
              "\n",
              "        async function convertToInteractive(key) {\n",
              "          const element = document.querySelector('#df-dd1a347e-0f62-4ee6-9354-09e1457a7516');\n",
              "          const dataTable =\n",
              "            await google.colab.kernel.invokeFunction('convertToInteractive',\n",
              "                                                     [key], {});\n",
              "          if (!dataTable) return;\n",
              "\n",
              "          const docLinkHtml = 'Like what you see? Visit the ' +\n",
              "            '<a target=\"_blank\" href=https://colab.research.google.com/notebooks/data_table.ipynb>data table notebook</a>'\n",
              "            + ' to learn more about interactive tables.';\n",
              "          element.innerHTML = '';\n",
              "          dataTable['output_type'] = 'display_data';\n",
              "          await google.colab.output.renderOutput(dataTable, element);\n",
              "          const docLink = document.createElement('div');\n",
              "          docLink.innerHTML = docLinkHtml;\n",
              "          element.appendChild(docLink);\n",
              "        }\n",
              "      </script>\n",
              "    </div>\n",
              "  </div>\n",
              "  "
            ]
          },
          "metadata": {},
          "execution_count": 131
        }
      ]
    },
    {
      "cell_type": "code",
      "source": [
        "%matplotlib inline\n",
        "log_md = np.log2(md)\n",
        "log_md.reset_index(drop=True).plot(figsize=(15,7), style='o-')"
      ],
      "metadata": {
        "colab": {
          "base_uri": "https://localhost:8080/",
          "height": 608
        },
        "id": "dA5B-CCUDL1L",
        "outputId": "4e4a2147-20e5-4a5c-e769-579a352651fa"
      },
      "execution_count": 53,
      "outputs": [
        {
          "output_type": "execute_result",
          "data": {
            "text/plain": [
              "<matplotlib.axes._subplots.AxesSubplot at 0x7f25128b20d0>"
            ]
          },
          "metadata": {},
          "execution_count": 53
        },
        {
          "output_type": "display_data",
          "data": {
            "text/plain": [
              "<Figure size 1440x720 with 1 Axes>"
            ],
            "image/png": "[encoded data removed]"
          },
          "metadata": {
            "needs_background": "light"
          }
        }
      ]
    },
    {
      "cell_type": "code",
      "source": [
        "md = md[md>3.38].dropna(inplace=True)\n",
        "gene_to_keep_by_median = md.index.tolist()\n",
        "gene_to_keep_by_median"
      ],
      "metadata": {
        "id": "bDqni2DcWe-V"
      },
      "execution_count": null,
      "outputs": []
    },
    {
      "cell_type": "code",
      "source": [
        "len(np.intersect1d(cpm_dataset.columns, gene_to_keep_by_median))\n"
      ],
      "metadata": {
        "colab": {
          "base_uri": "https://localhost:8080/"
        },
        "id": "6HQdORsRV01A",
        "outputId": "f3f29561-0462-487a-9497-54171d57c123"
      },
      "execution_count": 77,
      "outputs": [
        {
          "output_type": "execute_result",
          "data": {
            "text/plain": [
              "12381"
            ]
          },
          "metadata": {},
          "execution_count": 77
        }
      ]
    },
    {
      "cell_type": "code",
      "source": [
        "# keeping just the filtered by removing the ones with median value lower than the 25% from the describe\n",
        "cpm_dataset = cpm_dataset[np.intersect1d(cpm_dataset.columns, gene_to_keep_by_median)]"
      ],
      "metadata": {
        "id": "ott5fN_Sr3Q6"
      },
      "execution_count": 79,
      "outputs": []
    },
    {
      "cell_type": "code",
      "source": [
        "cpm_dataset.head()"
      ],
      "metadata": {
        "colab": {
          "base_uri": "https://localhost:8080/",
          "height": 435
        },
        "id": "Uc_MCcOD6a6h",
        "outputId": "e218d997-2309-44a7-d3e0-bef58ec3f995"
      },
      "execution_count": 80,
      "outputs": [
        {
          "output_type": "execute_result",
          "data": {
            "text/plain": [
              "                      A1BG  A1BG-AS1          A2M     A4GALT       AAAS  \\\n",
              "sample_id                                                                 \n",
              "TCGA-A1-A0SB-01   2.493770  3.801738  1603.081519  17.103149  36.078739   \n",
              "TCGA-A1-A0SD-01   7.670497  7.743075  1282.579083  20.329587  28.425758   \n",
              "TCGA-A1-A0SE-01  10.234784  7.888537   834.862431  14.131281  33.782319   \n",
              "TCGA-A1-A0SF-01  17.274740  9.924330   825.746478  23.380748  53.276323   \n",
              "TCGA-A1-A0SH-01   7.732152  6.762265   600.218980  14.943977  22.470162   \n",
              "\n",
              "                       AACS     AAED1       AAGAB       AAK1      AAMDC  ...  \\\n",
              "sample_id                                                                ...   \n",
              "TCGA-A1-A0SB-01  110.702352  6.005511   43.020468  53.136219   7.750306  ...   \n",
              "TCGA-A1-A0SD-01   42.299809  8.666822  105.232365  59.579958  27.801602  ...   \n",
              "TCGA-A1-A0SE-01   44.123136  5.519757   87.530094  53.782712  19.004741  ...   \n",
              "TCGA-A1-A0SF-01   23.471546  4.721547   53.367122  35.139223  16.434623  ...   \n",
              "TCGA-A1-A0SH-01   35.168673  5.001973   58.041472  50.979863  11.862264  ...   \n",
              "\n",
              "                    ZWILCH      ZWINT      ZXDA       ZXDB       ZXDC  \\\n",
              "sample_id                                                               \n",
              "TCGA-A1-A0SB-01  24.064519  16.281099  4.863782  26.328346  71.769285   \n",
              "TCGA-A1-A0SD-01  20.076537  34.970458  5.189397  31.172037  66.071162   \n",
              "TCGA-A1-A0SE-01  23.436790  43.040141  5.065602  38.568442  54.079661   \n",
              "TCGA-A1-A0SF-01  14.153295  35.865614  3.927056  28.261196  55.818696   \n",
              "TCGA-A1-A0SH-01  17.245967  14.851062  3.763095  24.916952  34.363403   \n",
              "\n",
              "                   ZYG11A     ZYG11B         ZYX      ZZEF1       ZZZ3  \n",
              "sample_id                                                               \n",
              "TCGA-A1-A0SB-01  0.981892  69.166137  313.588163  97.892120  72.796846  \n",
              "TCGA-A1-A0SD-01  1.783299  46.793718  191.882778  68.942268  64.448359  \n",
              "TCGA-A1-A0SE-01  3.056830  50.987894  159.653775  49.171264  57.084085  \n",
              "TCGA-A1-A0SF-01  5.016646  46.693397  283.134039  49.508164  26.921912  \n",
              "TCGA-A1-A0SH-01  0.851729  58.025988  234.333928  56.291558  42.927153  \n",
              "\n",
              "[5 rows x 12385 columns]"
            ],
            "text/html": [
              "\n",
              "  <div id=\"df-53144ee4-14f3-4e3c-8f8d-c3198627b24e\">\n",
              "    <div class=\"colab-df-container\">\n",
              "      <div>\n",
              "<style scoped>\n",
              "    .dataframe tbody tr th:only-of-type {\n",
              "        vertical-align: middle;\n",
              "    }\n",
              "\n",
              "    .dataframe tbody tr th {\n",
              "        vertical-align: top;\n",
              "    }\n",
              "\n",
              "    .dataframe thead th {\n",
              "        text-align: right;\n",
              "    }\n",
              "</style>\n",
              "<table border=\"1\" class=\"dataframe\">\n",
              "  <thead>\n",
              "    <tr style=\"text-align: right;\">\n",
              "      <th></th>\n",
              "      <th>A1BG</th>\n",
              "      <th>A1BG-AS1</th>\n",
              "      <th>A2M</th>\n",
              "      <th>A4GALT</th>\n",
              "      <th>AAAS</th>\n",
              "      <th>AACS</th>\n",
              "      <th>AAED1</th>\n",
              "      <th>AAGAB</th>\n",
              "      <th>AAK1</th>\n",
              "      <th>AAMDC</th>\n",
              "      <th>...</th>\n",
              "      <th>ZWILCH</th>\n",
              "      <th>ZWINT</th>\n",
              "      <th>ZXDA</th>\n",
              "      <th>ZXDB</th>\n",
              "      <th>ZXDC</th>\n",
              "      <th>ZYG11A</th>\n",
              "      <th>ZYG11B</th>\n",
              "      <th>ZYX</th>\n",
              "      <th>ZZEF1</th>\n",
              "      <th>ZZZ3</th>\n",
              "    </tr>\n",
              "    <tr>\n",
              "      <th>sample_id</th>\n",
              "      <th></th>\n",
              "      <th></th>\n",
              "      <th></th>\n",
              "      <th></th>\n",
              "      <th></th>\n",
              "      <th></th>\n",
              "      <th></th>\n",
              "      <th></th>\n",
              "      <th></th>\n",
              "      <th></th>\n",
              "      <th></th>\n",
              "      <th></th>\n",
              "      <th></th>\n",
              "      <th></th>\n",
              "      <th></th>\n",
              "      <th></th>\n",
              "      <th></th>\n",
              "      <th></th>\n",
              "      <th></th>\n",
              "      <th></th>\n",
              "      <th></th>\n",
              "    </tr>\n",
              "  </thead>\n",
              "  <tbody>\n",
              "    <tr>\n",
              "      <th>TCGA-A1-A0SB-01</th>\n",
              "      <td>2.493770</td>\n",
              "      <td>3.801738</td>\n",
              "      <td>1603.081519</td>\n",
              "      <td>17.103149</td>\n",
              "      <td>36.078739</td>\n",
              "      <td>110.702352</td>\n",
              "      <td>6.005511</td>\n",
              "      <td>43.020468</td>\n",
              "      <td>53.136219</td>\n",
              "      <td>7.750306</td>\n",
              "      <td>...</td>\n",
              "      <td>24.064519</td>\n",
              "      <td>16.281099</td>\n",
              "      <td>4.863782</td>\n",
              "      <td>26.328346</td>\n",
              "      <td>71.769285</td>\n",
              "      <td>0.981892</td>\n",
              "      <td>69.166137</td>\n",
              "      <td>313.588163</td>\n",
              "      <td>97.892120</td>\n",
              "      <td>72.796846</td>\n",
              "    </tr>\n",
              "    <tr>\n",
              "      <th>TCGA-A1-A0SD-01</th>\n",
              "      <td>7.670497</td>\n",
              "      <td>7.743075</td>\n",
              "      <td>1282.579083</td>\n",
              "      <td>20.329587</td>\n",
              "      <td>28.425758</td>\n",
              "      <td>42.299809</td>\n",
              "      <td>8.666822</td>\n",
              "      <td>105.232365</td>\n",
              "      <td>59.579958</td>\n",
              "      <td>27.801602</td>\n",
              "      <td>...</td>\n",
              "      <td>20.076537</td>\n",
              "      <td>34.970458</td>\n",
              "      <td>5.189397</td>\n",
              "      <td>31.172037</td>\n",
              "      <td>66.071162</td>\n",
              "      <td>1.783299</td>\n",
              "      <td>46.793718</td>\n",
              "      <td>191.882778</td>\n",
              "      <td>68.942268</td>\n",
              "      <td>64.448359</td>\n",
              "    </tr>\n",
              "    <tr>\n",
              "      <th>TCGA-A1-A0SE-01</th>\n",
              "      <td>10.234784</td>\n",
              "      <td>7.888537</td>\n",
              "      <td>834.862431</td>\n",
              "      <td>14.131281</td>\n",
              "      <td>33.782319</td>\n",
              "      <td>44.123136</td>\n",
              "      <td>5.519757</td>\n",
              "      <td>87.530094</td>\n",
              "      <td>53.782712</td>\n",
              "      <td>19.004741</td>\n",
              "      <td>...</td>\n",
              "      <td>23.436790</td>\n",
              "      <td>43.040141</td>\n",
              "      <td>5.065602</td>\n",
              "      <td>38.568442</td>\n",
              "      <td>54.079661</td>\n",
              "      <td>3.056830</td>\n",
              "      <td>50.987894</td>\n",
              "      <td>159.653775</td>\n",
              "      <td>49.171264</td>\n",
              "      <td>57.084085</td>\n",
              "    </tr>\n",
              "    <tr>\n",
              "      <th>TCGA-A1-A0SF-01</th>\n",
              "      <td>17.274740</td>\n",
              "      <td>9.924330</td>\n",
              "      <td>825.746478</td>\n",
              "      <td>23.380748</td>\n",
              "      <td>53.276323</td>\n",
              "      <td>23.471546</td>\n",
              "      <td>4.721547</td>\n",
              "      <td>53.367122</td>\n",
              "      <td>35.139223</td>\n",
              "      <td>16.434623</td>\n",
              "      <td>...</td>\n",
              "      <td>14.153295</td>\n",
              "      <td>35.865614</td>\n",
              "      <td>3.927056</td>\n",
              "      <td>28.261196</td>\n",
              "      <td>55.818696</td>\n",
              "      <td>5.016646</td>\n",
              "      <td>46.693397</td>\n",
              "      <td>283.134039</td>\n",
              "      <td>49.508164</td>\n",
              "      <td>26.921912</td>\n",
              "    </tr>\n",
              "    <tr>\n",
              "      <th>TCGA-A1-A0SH-01</th>\n",
              "      <td>7.732152</td>\n",
              "      <td>6.762265</td>\n",
              "      <td>600.218980</td>\n",
              "      <td>14.943977</td>\n",
              "      <td>22.470162</td>\n",
              "      <td>35.168673</td>\n",
              "      <td>5.001973</td>\n",
              "      <td>58.041472</td>\n",
              "      <td>50.979863</td>\n",
              "      <td>11.862264</td>\n",
              "      <td>...</td>\n",
              "      <td>17.245967</td>\n",
              "      <td>14.851062</td>\n",
              "      <td>3.763095</td>\n",
              "      <td>24.916952</td>\n",
              "      <td>34.363403</td>\n",
              "      <td>0.851729</td>\n",
              "      <td>58.025988</td>\n",
              "      <td>234.333928</td>\n",
              "      <td>56.291558</td>\n",
              "      <td>42.927153</td>\n",
              "    </tr>\n",
              "  </tbody>\n",
              "</table>\n",
              "<p>5 rows × 12385 columns</p>\n",
              "</div>\n",
              "      <button class=\"colab-df-convert\" onclick=\"convertToInteractive('df-53144ee4-14f3-4e3c-8f8d-c3198627b24e')\"\n",
              "              title=\"Convert this dataframe to an interactive table.\"\n",
              "              style=\"display:none;\">\n",
              "        \n",
              "  <svg xmlns=\"http://www.w3.org/2000/svg\" height=\"24px\"viewBox=\"0 0 24 24\"\n",
              "       width=\"24px\">\n",
              "    <path d=\"M0 0h24v24H0V0z\" fill=\"none\"/>\n",
              "    <path d=\"M18.56 5.44l.94 2.06.94-2.06 2.06-.94-2.06-.94-.94-2.06-.94 2.06-2.06.94zm-11 1L8.5 8.5l.94-2.06 2.06-.94-2.06-.94L8.5 2.5l-.94 2.06-2.06.94zm10 10l.94 2.06.94-2.06 2.06-.94-2.06-.94-.94-2.06-.94 2.06-2.06.94z\"/><path d=\"M17.41 7.96l-1.37-1.37c-.4-.4-.92-.59-1.43-.59-.52 0-1.04.2-1.43.59L10.3 9.45l-7.72 7.72c-.78.78-.78 2.05 0 2.83L4 21.41c.39.39.9.59 1.41.59.51 0 1.02-.2 1.41-.59l7.78-7.78 2.81-2.81c.8-.78.8-2.07 0-2.86zM5.41 20L4 18.59l7.72-7.72 1.47 1.35L5.41 20z\"/>\n",
              "  </svg>\n",
              "      </button>\n",
              "      \n",
              "  <style>\n",
              "    .colab-df-container {\n",
              "      display:flex;\n",
              "      flex-wrap:wrap;\n",
              "      gap: 12px;\n",
              "    }\n",
              "\n",
              "    .colab-df-convert {\n",
              "      background-color: #E8F0FE;\n",
              "      border: none;\n",
              "      border-radius: 50%;\n",
              "      cursor: pointer;\n",
              "      display: none;\n",
              "      fill: #1967D2;\n",
              "      height: 32px;\n",
              "      padding: 0 0 0 0;\n",
              "      width: 32px;\n",
              "    }\n",
              "\n",
              "    .colab-df-convert:hover {\n",
              "      background-color: #E2EBFA;\n",
              "      box-shadow: 0px 1px 2px rgba(60, 64, 67, 0.3), 0px 1px 3px 1px rgba(60, 64, 67, 0.15);\n",
              "      fill: #174EA6;\n",
              "    }\n",
              "\n",
              "    [theme=dark] .colab-df-convert {\n",
              "      background-color: #3B4455;\n",
              "      fill: #D2E3FC;\n",
              "    }\n",
              "\n",
              "    [theme=dark] .colab-df-convert:hover {\n",
              "      background-color: #434B5C;\n",
              "      box-shadow: 0px 1px 3px 1px rgba(0, 0, 0, 0.15);\n",
              "      filter: drop-shadow(0px 1px 2px rgba(0, 0, 0, 0.3));\n",
              "      fill: #FFFFFF;\n",
              "    }\n",
              "  </style>\n",
              "\n",
              "      <script>\n",
              "        const buttonEl =\n",
              "          document.querySelector('#df-53144ee4-14f3-4e3c-8f8d-c3198627b24e button.colab-df-convert');\n",
              "        buttonEl.style.display =\n",
              "          google.colab.kernel.accessAllowed ? 'block' : 'none';\n",
              "\n",
              "        async function convertToInteractive(key) {\n",
              "          const element = document.querySelector('#df-53144ee4-14f3-4e3c-8f8d-c3198627b24e');\n",
              "          const dataTable =\n",
              "            await google.colab.kernel.invokeFunction('convertToInteractive',\n",
              "                                                     [key], {});\n",
              "          if (!dataTable) return;\n",
              "\n",
              "          const docLinkHtml = 'Like what you see? Visit the ' +\n",
              "            '<a target=\"_blank\" href=https://colab.research.google.com/notebooks/data_table.ipynb>data table notebook</a>'\n",
              "            + ' to learn more about interactive tables.';\n",
              "          element.innerHTML = '';\n",
              "          dataTable['output_type'] = 'display_data';\n",
              "          await google.colab.output.renderOutput(dataTable, element);\n",
              "          const docLink = document.createElement('div');\n",
              "          docLink.innerHTML = docLinkHtml;\n",
              "          element.appendChild(docLink);\n",
              "        }\n",
              "      </script>\n",
              "    </div>\n",
              "  </div>\n",
              "  "
            ]
          },
          "metadata": {},
          "execution_count": 80
        }
      ]
    },
    {
      "cell_type": "code",
      "source": [
        "cpm_dataset.shape"
      ],
      "metadata": {
        "colab": {
          "base_uri": "https://localhost:8080/"
        },
        "id": "qJ-tvmdEx2bc",
        "outputId": "92c5b985-21ac-447d-f5ef-da38a0a53695"
      },
      "execution_count": 86,
      "outputs": [
        {
          "output_type": "execute_result",
          "data": {
            "text/plain": [
              "(817, 12385)"
            ]
          },
          "metadata": {},
          "execution_count": 86
        }
      ]
    },
    {
      "cell_type": "code",
      "execution_count": 87,
      "metadata": {
        "id": "VKVKnq_mWLQm"
      },
      "outputs": [],
      "source": [
        "def extract_and_reduce_by_columns(full_df, nofeats_ds, preproc_strategy: str= \"none\"): \n",
        "  \"\"\"\n",
        "     Function to extract dataset and a specific group of its columns.\n",
        "\n",
        "     path: the path where to get the data values (isoforms)\n",
        "     sheet_name: the excel sheet were to get the columns to select for the data (isoforms)\n",
        "     nofeats_ds: the dataset without the additional columns\n",
        "     name: 'trainingset' or 'testingset' for the excel \n",
        "     preproc_strategy: which preprocessing strategy to apply to the ds\n",
        "\n",
        "  \"\"\"\n",
        "  full_df = full_df # path of subdatset \n",
        "  full_list= full_df['Genes'].values.tolist()  #exatrct the list of isoforms names as list\n",
        "  if preproc_strategy == 'loge':\n",
        "    # https://stackoverflow.com/questions/49538185/purpose-of-numpy-log1p\n",
        "    log_cpm_dataset = np.log1p(cpm_dataset)\n",
        "    data = log_cpm_dataset[np.intersect1d(log_cpm_dataset.columns, full_list)]\n",
        "  elif preproc_strategy == 'log2':\n",
        "    log_cpm_dataset = np.log2(cpm_dataset + 1) # constant added to avoid reaching zero\n",
        "    data = log_cpm_dataset[np.intersect1d(log_cpm_dataset.columns, full_list)]\n",
        "  elif preproc_strategy == 'normperrow':\n",
        "    # normalize per rows\n",
        "    data = cpm_dataset[np.intersect1d(cpm_dataset.columns, full_list)]\n",
        "    data = data.div(data.sum(axis=1), axis=0) # ----> preprocessing scaling step to try, not working\n",
        "  elif preproc_strategy == 'none':\n",
        "    data = cpm_dataset[np.intersect1d(cpm_dataset.columns, full_list)]  # find the mutual isoform between main datset and subdatset \n",
        "    \n",
        "  \n",
        "  #data.reset_index(inplace=True) # todo remove\n",
        "  #data.rename(columns={ data.columns[0]: \"sample_id\" }, inplace = True) \n",
        "  # print(\"hello\", data.index)\n",
        "  x = nofeats_ds['sample_id'].values.tolist()\n",
        "  data1= data.loc[data.index.isin(x)]\n",
        "  # print(\"hello11\", data1)\n",
        "  result = pd.merge(data1, nofeats_ds, on='sample_id')\n",
        "  result\n",
        "  result.rename(columns={'sample_label':'subtype'}, inplace=True )\n",
        " \n",
        "  # result.to_csv(name +\".csv\", index=False) # save as csv file \n",
        "  return result"
      ]
    },
    {
      "cell_type": "markdown",
      "metadata": {
        "id": "kASP_N3D_Z9q"
      },
      "source": [
        " DATASET 1 CON FS PAM50\n",
        " "
      ]
    },
    {
      "cell_type": "code",
      "execution_count": 88,
      "metadata": {
        "id": "CKDm9YMLAZJe"
      },
      "outputs": [],
      "source": [
        "# List of feature space name \n",
        "feature_space_files =[\"FEATURE_SPACE6(MAIN)\", \"FEATURE_SPACE1(PAM)\", \"FEATURE_SPACE2(PAM)\",\"FEATURE_SPACE1(LIMMA)\",\"FEATURE_SPACE2(LIMMA)\", \"FEATURE_SPACE7(pamsimilarity)\",\"FEATURE_SPACE8(limmasimilarity)\"]"
      ]
    },
    {
      "cell_type": "code",
      "execution_count": 89,
      "metadata": {
        "colab": {
          "base_uri": "https://localhost:8080/"
        },
        "id": "qOyi2GPFZvQn",
        "outputId": "6875e4ed-1f26-4006-b021-9128cb9b98bf"
      },
      "outputs": [
        {
          "output_type": "stream",
          "name": "stdout",
          "text": [
            "X_train size: (410, 49)\n",
            "X_test size: (127, 49)\n"
          ]
        }
      ],
      "source": [
        "# Training Data import:\n",
        "train = extract_and_reduce_by_columns(pam_fs, training_ds, 'none') \n",
        "# print(\"aloha\", train)\n",
        "X_train_pam = train.drop([\"sample_id\",\"subtype\"],  axis = 1)\n",
        "Y_train_pam = train.subtype\n",
        "print(\"X_train size:\", X_train_pam.shape)\n",
        "\n",
        "# Testing Data import:\n",
        "test = extract_and_reduce_by_columns(pam_fs, testing_ds,'none' ) \n",
        "X_test_pam = test.drop([\"sample_id\",\"subtype\"], axis = 1)\n",
        "Y_test_pam = test.subtype\n",
        "print(\"X_test size:\", X_test_pam.shape)"
      ]
    },
    {
      "cell_type": "markdown",
      "metadata": {
        "id": "FZIvQC6W_fHg"
      },
      "source": [
        "DATASET 2 CON FS LIMMA50"
      ]
    },
    {
      "cell_type": "code",
      "execution_count": 90,
      "metadata": {
        "colab": {
          "base_uri": "https://localhost:8080/"
        },
        "id": "-xuVX_FkAHjX",
        "outputId": "157c4af6-5c79-4f10-b85e-19370462d8fc"
      },
      "outputs": [
        {
          "output_type": "stream",
          "name": "stdout",
          "text": [
            "X_train size: (410, 185)\n",
            "X_test size: (127, 185)\n"
          ]
        }
      ],
      "source": [
        "# Training Data import:\n",
        "train = extract_and_reduce_by_columns(limma_fs, training_ds, 'none' ) \n",
        "X_train_limma = train.drop([\"sample_id\",\"subtype\"],  axis = 1)\n",
        "Y_train_limma =train.subtype\n",
        "print(\"X_train size:\", X_train_limma.shape)\n",
        "\n",
        "# Testing Data import:\n",
        "test = extract_and_reduce_by_columns(limma_fs, testing_ds, 'none') \n",
        "X_test_limma = test.drop([\"sample_id\",\"subtype\"], axis = 1)\n",
        "Y_test_limma = test.subtype\n",
        "print(\"X_test size:\", X_test_limma.shape)"
      ]
    },
    {
      "cell_type": "markdown",
      "metadata": {
        "id": "7FpsrDco_i0T"
      },
      "source": [
        "DATASET 3 CON FS PAM50 E LOGE PREPROC\n",
        "\n",
        "\n"
      ]
    },
    {
      "cell_type": "code",
      "execution_count": 91,
      "metadata": {
        "colab": {
          "base_uri": "https://localhost:8080/"
        },
        "id": "6SlmcbwTAINV",
        "outputId": "09e54e22-f653-4de0-cc7e-d3ddbbf91323"
      },
      "outputs": [
        {
          "output_type": "stream",
          "name": "stdout",
          "text": [
            "X_train size: (410, 49)\n",
            "X_test size: (127, 49)\n"
          ]
        }
      ],
      "source": [
        "# Training Data import:\n",
        "train = extract_and_reduce_by_columns(pam_fs, training_ds, 'loge') \n",
        "X_train_pam_loge = train.drop([\"sample_id\",\"subtype\"],  axis = 1)\n",
        "Y_train_pam_loge=train.subtype\n",
        "print(\"X_train size:\", X_train_pam_loge.shape)\n",
        "\n",
        "# Testing Data import:\n",
        "test = extract_and_reduce_by_columns(pam_fs, testing_ds, 'loge') \n",
        "X_test_pam_loge = test.drop([\"sample_id\",\"subtype\"], axis = 1)\n",
        "Y_test_pam_loge = test.subtype\n",
        "print(\"X_test size:\", X_test_pam_loge.shape)"
      ]
    },
    {
      "cell_type": "markdown",
      "metadata": {
        "id": "AdSqftj5_oDp"
      },
      "source": [
        "DATASET 4 CON FS LIMMA50 E LOGE PREPROC"
      ]
    },
    {
      "cell_type": "code",
      "execution_count": 92,
      "metadata": {
        "colab": {
          "base_uri": "https://localhost:8080/"
        },
        "id": "mo128XJEAI9_",
        "outputId": "0905396c-1746-4108-e560-0baeec096d2b"
      },
      "outputs": [
        {
          "output_type": "stream",
          "name": "stdout",
          "text": [
            "X_train size: (410, 185)\n",
            "X_test size: (127, 185)\n"
          ]
        }
      ],
      "source": [
        "# Training Data import:\n",
        "train = extract_and_reduce_by_columns(limma_fs, training_ds, 'loge' ) \n",
        "X_train_limma_loge = train.drop([\"sample_id\",\"subtype\"],  axis = 1)\n",
        "Y_train_limma_loge =train.subtype\n",
        "print(\"X_train size:\", X_train_limma_loge.shape)\n",
        "\n",
        "# Testing Data import:\n",
        "test = extract_and_reduce_by_columns(limma_fs, testing_ds, 'loge' ) \n",
        "X_test_limma_loge = test.drop([\"sample_id\",\"subtype\"], axis = 1)\n",
        "Y_test_limma_loge = test.subtype\n",
        "print(\"X_test size:\", X_test_limma_loge.shape)"
      ]
    },
    {
      "cell_type": "markdown",
      "metadata": {
        "id": "NceijP63_1C_"
      },
      "source": [
        "DATASET 5 CON FS PAM50 E LOG2 PREPROC"
      ]
    },
    {
      "cell_type": "code",
      "execution_count": 93,
      "metadata": {
        "colab": {
          "base_uri": "https://localhost:8080/"
        },
        "id": "JyWlNykdAJjZ",
        "outputId": "61bd46af-8e83-40be-8fa9-826fdc673791"
      },
      "outputs": [
        {
          "output_type": "stream",
          "name": "stdout",
          "text": [
            "X_train size: (410, 49)\n",
            "X_test size: (127, 49)\n"
          ]
        }
      ],
      "source": [
        "# Training Data import:\n",
        "train = extract_and_reduce_by_columns(pam_fs, training_ds, 'log2') \n",
        "X_train_pam_log2 = train.drop([\"sample_id\",\"subtype\"],  axis = 1)\n",
        "Y_train_pam_log2 =train.subtype\n",
        "print(\"X_train size:\", X_train_pam_log2.shape)\n",
        "\n",
        "# Testing Data import:\n",
        "test = extract_and_reduce_by_columns(pam_fs, testing_ds, 'none') \n",
        "X_test_pam_log2 = test.drop([\"sample_id\",\"subtype\"], axis = 1)\n",
        "Y_test_pam_log2 = test.subtype\n",
        "print(\"X_test size:\", X_test_pam_log2.shape)"
      ]
    },
    {
      "cell_type": "markdown",
      "metadata": {
        "id": "agW5bW6s_4ja"
      },
      "source": [
        "DATASET 6 CON FS LIMMA50 E LOG2 PREPROC"
      ]
    },
    {
      "cell_type": "code",
      "execution_count": 94,
      "metadata": {
        "colab": {
          "base_uri": "https://localhost:8080/"
        },
        "id": "nbc56NqGAKIw",
        "outputId": "5e6f68c2-b689-4fb5-e55c-f6b42d699646"
      },
      "outputs": [
        {
          "output_type": "stream",
          "name": "stdout",
          "text": [
            "X_train size: (127, 185)\n",
            "X_test size: (127, 185)\n"
          ]
        }
      ],
      "source": [
        "# Training Data import:\n",
        "train = extract_and_reduce_by_columns(limma_fs, testing_ds, 'log2') \n",
        "X_train_limma_log2 = train.drop([\"sample_id\",\"subtype\"],  axis = 1)\n",
        "Y_train_limma_log2 =train.subtype\n",
        "print(\"X_train size:\", X_train_limma_log2.shape)\n",
        "\n",
        "# Testing Data import:\n",
        "test = extract_and_reduce_by_columns(limma_fs, testing_ds, 'log2') \n",
        "X_test_limma_log2 = test.drop([\"sample_id\",\"subtype\"], axis = 1)\n",
        "Y_test_limma_log2 = test.subtype\n",
        "print(\"X_test size:\", X_test_limma_log2.shape)"
      ]
    },
    {
      "cell_type": "markdown",
      "metadata": {
        "id": "l0I2qr2H_8fP"
      },
      "source": [
        "DATASET 7 CON FS REDUCED FROM PAM50 E LOG PREPROCESSING (choose the best between 2 and e)"
      ]
    },
    {
      "cell_type": "code",
      "execution_count": 95,
      "metadata": {
        "colab": {
          "base_uri": "https://localhost:8080/"
        },
        "id": "jtKWfvmOD30B",
        "outputId": "eeae160e-4844-4769-e558-94efd6aa3b31"
      },
      "outputs": [
        {
          "output_type": "execute_result",
          "data": {
            "text/plain": [
              "SelectFromModel(estimator=LogisticRegression(C=1, penalty='l1',\n",
              "                                             solver='liblinear'))"
            ]
          },
          "metadata": {},
          "execution_count": 95
        }
      ],
      "source": [
        "sel_ = SelectFromModel(LogisticRegression(C=1, penalty='l1', solver='liblinear'))\n",
        "sel_.fit(X_train_pam_log2,Y_train_pam_log2)"
      ]
    },
    {
      "cell_type": "code",
      "execution_count": 96,
      "metadata": {
        "id": "zaUzjJbsD3sq"
      },
      "outputs": [],
      "source": [
        "sel_.get_support()\n",
        "selected_feat = X_train_pam_loge.columns[(sel_.get_support())]"
      ]
    },
    {
      "cell_type": "code",
      "execution_count": 97,
      "metadata": {
        "colab": {
          "base_uri": "https://localhost:8080/"
        },
        "id": "HqYWFbAuD3jZ",
        "outputId": "324f0a7b-de29-4ee0-cdc4-63a440f3130f"
      },
      "outputs": [
        {
          "output_type": "stream",
          "name": "stdout",
          "text": [
            "total features: 49\n",
            "selected features: 48\n",
            "Percentage features with coefficients shrank to zero: 4.0458015267175576\n"
          ]
        }
      ],
      "source": [
        "print('total features: {}'.format((X_train_pam_loge.shape[1])))\n",
        "print('selected features: {}'.format(len(selected_feat)))\n",
        "print('Percentage features with coefficients shrank to zero: {}'.format(np.sum(sel_.estimator_.coef_ == 0)/131*5))"
      ]
    },
    {
      "cell_type": "code",
      "execution_count": 99,
      "metadata": {
        "id": "TdEkItmBEKGw"
      },
      "outputs": [],
      "source": [
        "X_train_pam_log2_sel = X_train_pam_log2[selected_feat].copy()\n",
        "Y_train_pam_log2_sel = Y_train_pam_log2\n",
        "\n",
        "X_test_pam_log2_sel = X_test_pam_log2[selected_feat].copy()\n",
        "Y_test_pam_log2_sel = Y_test_pam_log2"
      ]
    },
    {
      "cell_type": "markdown",
      "metadata": {
        "id": "5oz4_Xl5ADNx"
      },
      "source": [
        "DATASET 8 CON FS REDUCED FROM LIMMA50 E LOG PREPROCESSING (choose the best between 2 and e)"
      ]
    },
    {
      "cell_type": "code",
      "execution_count": 100,
      "metadata": {
        "colab": {
          "base_uri": "https://localhost:8080/"
        },
        "id": "PLGJpecyALR-",
        "outputId": "a20c3325-e612-4219-de56-bfa76664a1f1"
      },
      "outputs": [
        {
          "output_type": "execute_result",
          "data": {
            "text/plain": [
              "SelectFromModel(estimator=LogisticRegression(C=1, penalty='l1',\n",
              "                                             solver='liblinear'))"
            ]
          },
          "metadata": {},
          "execution_count": 100
        }
      ],
      "source": [
        "sel_ = SelectFromModel(LogisticRegression(C=1, penalty='l1', solver='liblinear'))\n",
        "sel_.fit(X_train_limma_log2,Y_train_limma_log2)"
      ]
    },
    {
      "cell_type": "code",
      "execution_count": 101,
      "metadata": {
        "id": "PZhWQ01wImRJ"
      },
      "outputs": [],
      "source": [
        "sel_.get_support()\n",
        "selected_feat = X_train_limma.columns[(sel_.get_support())]"
      ]
    },
    {
      "cell_type": "code",
      "execution_count": 102,
      "metadata": {
        "colab": {
          "base_uri": "https://localhost:8080/"
        },
        "id": "-DIilh9xImK5",
        "outputId": "30d99b40-a8bc-4e79-bfb7-baf51533e7cb"
      },
      "outputs": [
        {
          "output_type": "stream",
          "name": "stdout",
          "text": [
            "total features: 185\n",
            "selected features: 91\n",
            "Percentage features with coefficients shrank to zero: 7.127468581687612\n"
          ]
        }
      ],
      "source": [
        "print('total features: {}'.format((X_train_limma_loge.shape[1])))\n",
        "print('selected features: {}'.format(len(selected_feat)))\n",
        "print('Percentage features with coefficients shrank to zero: {}'.format(np.sum(sel_.estimator_.coef_ == 0)/557*5))"
      ]
    },
    {
      "cell_type": "code",
      "execution_count": 103,
      "metadata": {
        "id": "rhHP4WFuImEs"
      },
      "outputs": [],
      "source": [
        "X_train_limma_log2_sel = X_train_limma_log2[selected_feat].copy()\n",
        "Y_train_limma_log2_sel = Y_train_limma_log2\n",
        "\n",
        "X_test_limma_log2_sel = X_test_limma_log2[selected_feat].copy()\n",
        "Y_test_limma_log2_sel = Y_test_limma_log2"
      ]
    },
    {
      "cell_type": "markdown",
      "metadata": {
        "id": "hKRISqrDAJ_H"
      },
      "source": [
        "DATASET 9 CON FS NEW E LOG PREPROCESSING (choose best try 2 for now) "
      ]
    },
    {
      "cell_type": "markdown",
      "metadata": {
        "id": "u8riMKSFueaj"
      },
      "source": [
        "#### feature selection on all features"
      ]
    },
    {
      "cell_type": "code",
      "source": [
        "from scipy.optimize.optimize import main\n",
        "main_filtered_gene_fs = pd.DataFrame({'Genes': cpm_dataset.columns.tolist()})"
      ],
      "metadata": {
        "id": "gc0SXRGjYbM9"
      },
      "execution_count": null,
      "outputs": []
    },
    {
      "cell_type": "code",
      "execution_count": 114,
      "metadata": {
        "colab": {
          "base_uri": "https://localhost:8080/"
        },
        "id": "iw_h3CWwmLwk",
        "outputId": "080674f2-c0f2-4b62-e4db-eb31e14c2707"
      },
      "outputs": [
        {
          "output_type": "stream",
          "name": "stdout",
          "text": [
            "X_train size: (410, 12385)\n",
            "X_test size: (127, 12385)\n"
          ]
        }
      ],
      "source": [
        "# Training Data import:\n",
        "train = extract_and_reduce_by_columns(main_filtered_gene_fs, training_ds, 'log2') \n",
        "X_train_lasso = train.drop([\"sample_id\",\"subtype\"],  axis = 1)\n",
        "samples_train = train.sample_id\n",
        "Y_train_lasso=train.subtype\n",
        "print(\"X_train size:\", X_train_lasso.shape)\n",
        "\n",
        "# Testing Data import:\n",
        "test = extract_and_reduce_by_columns(main_filtered_gene_fs, testing_ds,  'log2') \n",
        "X_test_lasso = test.drop([\"sample_id\",\"subtype\"], axis = 1)\n",
        "Y_test_lasso = test.subtype\n",
        "print(\"X_test size:\", X_test_lasso.shape)"
      ]
    },
    {
      "cell_type": "code",
      "execution_count": 115,
      "metadata": {
        "colab": {
          "base_uri": "https://localhost:8080/"
        },
        "id": "SSxUQyYouqC2",
        "outputId": "d4033309-cffe-4884-dd1b-e53ab94c8ea8"
      },
      "outputs": [
        {
          "output_type": "execute_result",
          "data": {
            "text/plain": [
              "SelectFromModel(estimator=LogisticRegression(C=1, penalty='l1',\n",
              "                                             solver='liblinear'))"
            ]
          },
          "metadata": {},
          "execution_count": 115
        }
      ],
      "source": [
        "sel_ = SelectFromModel(LogisticRegression(C=1, penalty='l1', solver='liblinear'))\n",
        "sel_.fit(X_train_lasso,Y_train_lasso)"
      ]
    },
    {
      "cell_type": "code",
      "execution_count": null,
      "metadata": {
        "id": "m2LGGfY_us2K"
      },
      "outputs": [],
      "source": [
        "sel_.get_support()\n",
        "selected_feat = X_train_lasso.columns[(sel_.get_support())]\n",
        "print(sel_.estimator_.coef_)"
      ]
    },
    {
      "cell_type": "code",
      "execution_count": 117,
      "metadata": {
        "colab": {
          "base_uri": "https://localhost:8080/"
        },
        "id": "DPzaBOVOu1Bu",
        "outputId": "108023ab-e11f-404a-df3c-cf4ae45f430b"
      },
      "outputs": [
        {
          "output_type": "stream",
          "name": "stdout",
          "text": [
            "total features: 12385\n",
            "selected features: 1074\n",
            "coefficients shrank to zero: 60491\n",
            "0.24322878970647366\n"
          ]
        }
      ],
      "source": [
        "print('total features: {}'.format((X_train_lasso.shape[1])))\n",
        "print('selected features: {}'.format(len(selected_feat)))\n",
        "print('coefficients shrank to zero: {}'.format(\n",
        "      np.sum(sel_.estimator_.coef_ == 0)))\n",
        "\n",
        "perc_feat_selected = np.sum(sel_.estimator_.coef_ == 0)/ (49740*5)\n",
        "print(perc_feat_selected)"
      ]
    },
    {
      "cell_type": "code",
      "execution_count": 118,
      "metadata": {
        "id": "UlS8buXoKp2K"
      },
      "outputs": [],
      "source": [
        "X_train_lasso = X_train_lasso[selected_feat].copy()\n",
        "Y_train_lasso = Y_train_lasso\n",
        "\n",
        "X_test_lasso = X_test_lasso[selected_feat].copy()\n",
        "Y_test_lasso = Y_test_lasso"
      ]
    },
    {
      "cell_type": "markdown",
      "source": [
        "## MRMR"
      ],
      "metadata": {
        "id": "iMSUMZusDbcn"
      }
    },
    {
      "cell_type": "code",
      "source": [
        "mrmr_features = mrmr_classif(X=X_train_lasso, y=Y_train_lasso, K=750)\n",
        "\n",
        "# Next steps: check how many of the chosen features overlap with selected with lasso, pam50 and limam50\n",
        "# in other training notebook: check how the models perform on it "
      ],
      "metadata": {
        "colab": {
          "base_uri": "https://localhost:8080/"
        },
        "id": "q6aLvaFLyYpo",
        "outputId": "499b85a6-c768-4794-fbc7-d909d1a40d68"
      },
      "execution_count": 121,
      "outputs": [
        {
          "output_type": "stream",
          "name": "stderr",
          "text": [
            "100%|██████████| 750/750 [04:25<00:00,  2.83it/s]\n"
          ]
        }
      ]
    },
    {
      "cell_type": "code",
      "source": [
        "print(mrmr_features)"
      ],
      "metadata": {
        "id": "Kh75r5nOwu18",
        "colab": {
          "base_uri": "https://localhost:8080/"
        },
        "outputId": "63666d30-c6a5-4d4e-eb58-d52e28c1a8af"
      },
      "execution_count": 122,
      "outputs": [
        {
          "output_type": "stream",
          "name": "stdout",
          "text": [
            "['FOXA1', 'G6PD', 'SPON2', 'MLPH', 'ESR1', 'SPDEF', 'FOXC1', 'AGR3', 'SLC44A4', 'CA12', 'MIEN1', 'GATA3', 'AGR2', 'XBP1', 'CCNE2', 'THSD4', 'STARD3', 'PRR15', 'CCDC170', 'TPX2', 'DNALI1', 'DEGS2', 'GRB7', 'C5AR2', 'B3GNT5', 'POLQ', 'RGMA', 'NDC80', 'CDC20', 'ERBB2', 'ZNF552', 'CCNE1', 'TFF3', 'CEP55', 'PGAP3', 'GREB1', 'ERBB4', 'SGOL1', 'AR', 'GABRP', 'SKA1', 'HID1', 'TICRR', 'SFRP1', 'SCUBE2', 'FSCN1', 'EXO1', 'ANXA9', 'PSMD3', 'C9orf152', 'MAPT', 'LMX1B', 'TTK', 'KCNK5', 'DEPDC1B', 'ARMT1', 'UBE2C', 'RERG', 'ORMDL3', 'ABAT', 'KIF18B', 'SUSD3', 'YBX1', 'AURKA', 'CLSTN2', 'BIRC5', 'GFRA1', 'AFF3', 'CDCA2', 'CDCA7', 'GATA3-AS1', 'MELK', 'CRYAB', 'FAM214A', 'UBE2T', 'CELSR1', 'MCM10', 'CENPE', 'MAP2', 'GINS1', 'BCAS1', 'NAT1', 'MFI2', 'SLC39A6', 'SERPINB5', 'FAM83D', 'SPAG5', 'TRIM3', 'FSIP1', 'KIF18A', 'TMEM63C', 'KIFC1', 'TFF1', 'IGF1R', 'TMEM45B', 'FAT2', 'MYBL2', 'PGR', 'TRIM2', 'DEPDC1', 'ABCA12', 'KIF14', 'KRT6B', 'UBXN10', 'CREB3L4', 'NUF2', 'DSC3', 'ANLN', 'TFCP2L1', 'KIF20A', 'ID4', 'SCARB1', 'CDC6', 'RALGPS2', 'ASPM', 'TSPAN1', 'SCCPDH', 'SYBU', 'DNA2', 'CX3CL1', 'CDKN3', 'DACH1', 'KIF15', 'ASB13', 'SLC2A10', 'ESPL1', 'PRRT3', 'SERHL', 'NEK2', 'ITGB8', 'CYP2B7P', 'ATAD2', 'LONRF2', 'DLGAP5', 'SLC16A6', 'CBLC', 'CMYA5', 'ELF5', 'MIR143HG', 'CRIP1', 'CKAP2L', 'CHI3L2', 'ABCC11', 'STMN1', 'MBOAT1', 'PADI2', 'E2F8', 'FAM134B', 'RIMS4', 'LAMP5', 'PRC1', 'AKR7A3', 'SCNN1A', 'IL17RD', 'MKI67', 'CDH3', 'MCM7', 'EGR1', 'SIAH2', 'ZG16B', 'TGFA', 'FGFR2', 'CBX2', 'REEP1', 'GSDMB', 'ADIRF', 'SPC25', 'NKAIN1', 'ATP7B', 'TCF19', 'EGFR', 'BTF3', 'CTSV', 'PAMR1', 'UBASH3B', 'WNK4', 'GPSM2', 'GSTP1', 'SLC7A2', 'CPA3', 'KRT17', 'FGD3', 'CENPF', 'DSC2', 'SRARP', 'PROS1', 'LMO4', 'SERPINA11', 'TPSAB1', 'KIAA0226L', 'IQGAP3', 'STAC2', 'TMC5', 'ADAMTS15', 'PMAIP1', 'FAM111B', 'GALNT7', 'ANKRD30A', 'PROM1', 'TOP2A', 'FAAH', 'CCL14', 'MTL5', 'CD59', 'EME1', 'MSX2', 'NDRG2', 'SLC7A5', 'KRT5', 'TPSB2', 'EPN3', 'CDC7', 'IRS1', 'MMP7', 'SERHL2', 'GEN1', 'DNAH5', 'STC2', 'XPO5', 'PRLR', 'RHOJ', 'ERBB3', 'NEK10', 'KIF16B', 'CHRD', 'CLSPN', 'PTGER3', 'KCNMB1', 'ZNF516', 'LFNG', 'KIAA1524', 'IL6ST', 'FAM189A2', 'MUCL1', 'COTL1', 'PARPBP', 'CHAD', 'S100A1', 'ACOX2', 'HELLS', 'GRIK3', 'CYBRD1', 'KIAA1467', 'RET', 'PTPRT', 'DTL', 'MYC', 'TNFRSF21', 'MATN3', 'SUSD2', 'ELOVL2', 'PDGFA', 'SLC46A1', 'KIAA1804', 'CCDC8', 'TPRG1', 'KIF12', 'ATAD5', 'KRT14', 'C4A', 'MRPL27', 'MRGPRF', 'CDKN2A', 'PHYHD1', 'CNKSR3', 'PVT1', 'RPH3AL', 'E2F7', 'PCSK6', 'SDR16C5', 'GDF15', 'NCAM2', 'GPRC5C', 'CCDC74A', 'MFAP4', 'KRT23', 'UHRF1', 'FAM120A', 'NFE2L3', 'KRTCAP3', 'KIF13B', 'METRN', 'MED24', 'CACNG4', 'SPEG', 'EGR3', 'FA2H', 'CYP4B1', 'FBXL7', 'CIT', 'SYT9', 'CHI3L1', 'SLC40A1', 'KIAA0101', 'TRPV4', 'SLPI', 'MYH11', 'UCHL1', 'FGF11', 'CENPM', 'KHDRBS3', 'MPP7', 'OSCP1', 'CX3CR1', 'GCNT2', 'HSPD1', 'NGFR', 'SERPINA5', 'SEPT3', 'ST8SIA6', 'WDR62', 'KMO', 'TMPO', 'ACTG2', 'CNTNAP2', 'ADCY1', 'INAVA', 'NFIX', 'SPATA20', 'ITGA7', 'BAIAP3', 'MFSD2A', 'TM7SF2', 'COL17A1', 'CPE', 'HPN', 'KITLG', 'CRISPLD1', 'NFIB', 'ATP1A1', 'ABCA3', 'ANXA3', 'SNF8', 'RELB', 'PEAR1', 'CEACAM5', 'FGFR4', 'CLGN', 'NUMA1', 'GYLTL1B', 'NTRK2', 'ADGRL2', 'CEP128', 'TP63', 'CREB3L1', 'HS6ST3', 'CNN1', 'ABHD2', 'RCC2', 'CFAP45', 'MYBL1', 'KIT', 'TMEM26', 'ITGB5', 'CSTB', 'PLA2G16', 'ACKR1', 'CEACAM6', 'DOK7', 'SVEP1', 'RGS11', 'PDZK1', 'SYT17', 'KRT15', 'CES1', 'GAPDH', 'HN1L', 'GP2', 'EVA1B', 'TPI1', 'KIF20B', 'PIM1', 'DOCK1', 'EEF1A2', 'FAM198A', 'GNA14', 'PHLDA1', 'RDH10', 'RGS5', 'RGS2', 'KCNE4', 'MEIS2', 'HPX', 'SLC34A2', 'POLE2', 'SERPINA3', 'CSPG4', 'NXPH3', 'NAV3', 'PTN', 'OBSCN', 'TUBA4A', 'FANK1', 'SULT2B1', 'EGR2', 'GALNT4', 'C7', 'CBR3', 'FASN', 'GGH', 'WLS', 'NTN4', 'VANGL2', 'BTNL9', 'ADGRV1', 'TMEM184A', 'DUSP4', 'GMNN', 'FMN1', 'MMP11', 'PDLIM4', 'IL33', 'GNA15', 'ACSL1', 'TRPS1', 'ITM2A', 'FBXO32', 'ITGA3', 'PABPC1L', 'MDFI', 'TMSB10', 'HSPB6', 'SYT1', 'SLC35B1', 'SNAPC2', 'CENPH', 'BTRC', 'CYP26B1', 'RORC', 'SCGB2A2', 'FMO2', 'S100A9', 'MVP', 'YPEL2', 'PI15', 'SEMA6D', 'LOC642846', 'NCALD', 'CST3', 'ADAMTS9', 'LRG1', 'CLDN8', 'SSC5D', 'KIF5C', 'MMP1', 'EEF1A1P9', 'HGD', 'SREBF1', 'HIC1', 'SLC27A2', 'PLEKHB1', 'MFSD7', 'CPQ', 'NPY1R', 'PLD4', 'C14orf132', 'FMO5', 'NMNAT3', 'ADRA2A', 'CLDN1', 'VAMP2', 'THBS4', 'ARL4C', 'TRA2B', 'CITED4', 'GATA2', 'PCDHGB7', 'DHCR24', 'SPATA18', 'NOVA1', 'CKAP2', 'SLC16A14', 'MPV17L', 'CYR61', 'F3', 'MOCOS', 'SERINC1', 'TFAP2B', 'DHRS2', 'CYP21A2', 'SYDE2', 'VWA5A', 'LYPD6', 'BAHCC1', 'SLC45A3', 'BRCA2', 'FZD1', 'AIF1L', 'LRP2', 'IGFBP2', 'COL10A1', 'ALDH3B2', 'FOSB', 'MAL2', 'APH1A', 'EEF2', 'RPP25', 'LPL', 'KYNU', 'RNF39', 'C1RL', 'FLNB', 'TUBB3', 'PABPC1', 'SEMA3E', 'ITGB4', 'RHOBTB2', 'KLHDC7A', 'PPP1R1B', 'FBXO17', 'PRKCI', 'PIP', 'CBS', 'PLCH2', 'SLC2A1', 'SCD', 'ALOX15B', 'LINC00657', 'PERP', 'DGAT2', 'GSTM3', 'TSPYL1', 'CFD', 'SPTSSB', 'TGFBR3', 'UCP2', 'GDAP1', 'MSH5', 'MME', 'TRIM58', 'CDR2L', 'ARL4A', 'FSTL3', 'EFNB3', 'UBALD2', 'SHC2', 'BMPR1B', 'CILP', 'IL20RA', 'ADAMTS1', 'PHLPP1', 'OXCT1', 'C7ORF13', 'HIST1H4H', 'IDO1', 'MAOA', 'RPS6KA1', 'SEPT4', 'SCGB1D2', 'CRIM1', 'PTMA', 'HRASLS5', 'HNRNPA2B1', 'ACSS3', 'FADS1', 'TRNP1', 'SLC5A1', 'OXTR', 'SLC44A1', 'BPIFB1', 'ARID5A', 'SLC2A6', 'CBX3', 'ERLIN2', 'AREG', 'IL32', 'KCNMA1', 'HBB', 'STEAP2', 'PRSS16', 'ATP2C2', 'ADH1B', 'BNIPL', 'CLTC', 'TSPYL5', 'DSG2', 'TAGLN2', 'ACTA2', 'FCGBP', 'JUNB', 'LAMA1', 'CYP4X1', 'RPL39L', 'CLIC6', 'ID1', 'CD44', 'ANKRD37', 'TPM2', 'PTGES3', 'HEBP2', 'FABP4', 'THRSP', 'MUC1', 'PGAM1', 'SYAP1', 'HR', 'HSPA4L', 'PLIN1', 'BACE2', 'DSEL', 'PRODH', 'TNK1', 'KDM3B', 'H2AFY2', 'SULT1A1', 'P3H3', 'CTNND2', 'EEF1A1', 'TPPP', 'NDUFA4L2', 'APOD', 'CST1', 'MGLL', 'CPXM1', 'SRC', 'NRM', 'HIST1H2BD', 'SUSD4', 'SLITRK6', 'CHRDL1', 'KLHDC7B', 'MLF1', 'SERPINH1', 'ZNF689', 'GALNT5', 'CHL1', 'SH3BGRL3', 'SNRPN', 'FADS2', 'CYP4Z1', 'CXADR', 'PMP22', 'SLC6A9', 'SIX2', 'LNX1', 'CRELD1', 'TPT1', 'LRP1', 'TNNT1', 'CFB', 'CXCL14', 'SYNPO2', 'RPL41', 'VTCN1', 'TAGLN', 'FAM83E', 'DEPTOR', 'LLGL2', 'IER3', 'CA11', 'HNRNPUL1', 'PLIN4', 'BARX2', 'RAMP3', 'SUPT6H', 'ERMP1', 'KCTD12', 'DIRAS1', 'SEC61G', 'PARP1', 'GOLGA8A', 'FGF7', 'SMYD3', 'EPHX2', 'ATP2A3', 'ZBTB7C', 'SEMA6A', 'KIF1C', 'EPRS', 'KIAA1683', 'LRRN1', 'ADIPOQ', 'PDK2', 'ZNF718', 'SHISA2', 'CDCA7L', 'ADCY5', 'CCL21', 'ACSF2', 'CBR1', 'CAP2', 'BMS1P20', 'DNAJC6', 'MIR205HG', 'ETV4', 'COL1A1', 'CHML', 'APOBEC3B', 'GSTA4', 'COMP', 'CPAMD8', 'ESM1', 'COL6A2', 'VASH2', 'CGNL1', 'SLC22A17', 'C11orf80', 'SERPINE1', 'RPS6', 'GBP5', 'MARC1', 'TMPRSS13', 'ZNF486', 'COLEC12', 'MGP', 'BCAS4', 'LYNX1', 'GPD1', 'CD63', 'FAM46C', 'ITGB6', 'GSTM2', 'CDKN2C', 'RGS10', 'SLC38A1', 'PACSIN1', 'FAM86DP', 'PLXNB3', 'ANXA5', 'MYH14', 'PDLIM3', 'SLFN13', 'KDELR3', 'ABCC3', 'GALNT14', 'WISP2', 'ATP6V1B1', 'MTURN', 'SELM', 'MID1IP1', 'ZBED6CL', 'HIST1H2BK', 'CXCL13', 'CP', 'HIST1H2AC', 'PDE1B', 'CD36', 'WNK2', 'DIO2', 'HSP90AB1', 'CPD', 'PTGDS', 'CDK19', 'SMTN', 'PDE4B', 'IFI16', 'COL4A5', 'SLC41A1', 'PRKAR1A', 'CALD1']\n"
          ]
        }
      ]
    },
    {
      "cell_type": "code",
      "source": [
        "X_train_mrmr = X_train_lasso[mrmr_features].copy()\n",
        "Y_train_mrmr = Y_train_lasso\n",
        "\n",
        "X_test_mrmr = X_test_lasso[mrmr_features].copy()\n",
        "Y_test_mrmr = Y_test_lasso"
      ],
      "metadata": {
        "id": "ih7dudIswuzF"
      },
      "execution_count": 123,
      "outputs": []
    },
    {
      "cell_type": "code",
      "source": [
        "print(X_train_mrmr.shape, X_test_mrmr.shape)"
      ],
      "metadata": {
        "colab": {
          "base_uri": "https://localhost:8080/"
        },
        "id": "f-XByxFjzz5s",
        "outputId": "f5b57a01-c43b-490b-f921-57caf617ed50"
      },
      "execution_count": 124,
      "outputs": [
        {
          "output_type": "stream",
          "name": "stdout",
          "text": [
            "(410, 750) (127, 750)\n"
          ]
        }
      ]
    },
    {
      "cell_type": "markdown",
      "metadata": {
        "id": "hS8speNhmNy4"
      },
      "source": [
        "### Model training, evaluation and saving of results\n"
      ]
    },
    {
      "cell_type": "code",
      "execution_count": 125,
      "metadata": {
        "id": "z6pLIoMgkXOZ"
      },
      "outputs": [],
      "source": [
        "def write_results(results, final_path, name_file):\n",
        "      '''\n",
        "      Function to write results metrics and confing into a csv file with as name the current date\n",
        "      '''\n",
        "      \n",
        "      # datetime object containing current date and time\n",
        "      now = datetime.now()\n",
        "      dt_string = now.strftime(\"%d%m%Y%H%M%S\")\n",
        "      dt = now.strftime(\"%d%m%Y\")\n",
        "\n",
        "      if not os.path.exists(results_path+final_path+dt+'/'):\n",
        "        os.mkdir(results_path+final_path+dt+'/')\n",
        "\n",
        "      \n",
        "      df = pd.DataFrame(results)\n",
        "      df.to_csv(results_path+final_path+dt+'/'+name_file+dt_string+\".csv\")"
      ]
    },
    {
      "cell_type": "code",
      "execution_count": 126,
      "metadata": {
        "id": "GM9h4lt8kf3L"
      },
      "outputs": [],
      "source": [
        "def training_and_saving_after_cv_and_single_split(which_ds, X_train, Y_train,X_test, Y_test, scores, param_values, model):\n",
        "\n",
        "  C = []\n",
        "  l1_ratio = []\n",
        "  cv_best = []\n",
        "  score_test_balanced_accuracy = []\n",
        "  score_test_accuracy = []\n",
        "  precision = []\n",
        "  recall = []\n",
        "  f1=[]\n",
        "\n",
        "  for index, score in enumerate(scores):\n",
        "      # -------RESULTS in CROSS_VALIDATION-----------\n",
        "      print(\"Tuning hyper-parameters for %s\" % score)\n",
        "      # Fit and hyperparameter search\n",
        "      selected_model = GridSearchCV(model(), param_values, scoring=score, cv=10)\n",
        "      selected_model.fit(X_train, Y_train)\n",
        "      # found best model and fit on training\n",
        "      print(\"Parameter setting that gave the best results on the hold out data: \",  selected_model.best_params_)\n",
        "      print(\"Mean cross-validated score of the best_estimator found: \",  selected_model.best_score_)\n",
        "\n",
        "      # save top config and score from grid search (only accuracy or balanced accuracy)\n",
        "      # evaltype datasetdetails modelname parameters balancedaccuracy\n",
        "      dic_result = {}\n",
        "      dic_result['eval_type']= ['GRID SEARCH RESULTS']\n",
        "      dic_result['dataset_details']= [which_ds]\n",
        "      dic_result['model_name']=  [model.__name__ ]\n",
        "      dic_result['top_parameters']= [str(selected_model.best_params_)]\n",
        "      dic_result['name_score']= [score]\n",
        "      dic_result['score_value'] = [selected_model.best_score_]\n",
        "      df_result = pd.DataFrame.from_dict(dic_result)\n",
        "      print('Grid search results: ', df_result)\n",
        "      write_results(df_result,model.__name__ +'/', 'cv_on_'+score)\n",
        "\n",
        "      # use top config and trained model for evaluation on test\n",
        "      y_true, y_pred = Y_test, selected_model.predict(X_test)\n",
        "\n",
        "      # save results from test\n",
        "      # evaltype datasetdetails modelname parameters balacc accc prec rec f1\n",
        "      dic_result = {}\n",
        "      dic_result['eval_type']= ['TEST GRID SEARCH RESULTS']\n",
        "      dic_result['dataset_details']= [which_ds]\n",
        "      dic_result['model_name']=  [model.__name__ ]\n",
        "      dic_result['top_parameters']= [str(selected_model.best_params_)]\n",
        "      dic_result['balanced_accuracy'] = [round(balanced_accuracy_score(y_true, y_pred), 3)]\n",
        "      dic_result['accuracy'] = [round(accuracy_score(y_true, y_pred), 3)]\n",
        "      dic_result['precision'] = [round(precision_score(y_true, y_pred, average=\"macro\"), 3)]\n",
        "      dic_result['recall'] = [round(recall_score(y_true, y_pred, average=\"macro\"), 3)]\n",
        "      dic_result['f1'] = [round(f1_score(y_true, y_pred, average=\"macro\"),3)]\n",
        "\n",
        "      df_result = pd.DataFrame.from_dict(dic_result)\n",
        "      print('Grid search results on test eval: ', df_result)\n",
        "      # not saved anymore because the results are the same as creating new model and performing eval on test set\n",
        "      # it was initiially introduced for verification\n",
        "      # write_results(df_result,model.__name__ +'/', 'testcv_on_'+score) \n",
        "\n",
        "      # create new model with top convig and evaluate for verification\n",
        "      check_model = model(**selected_model.best_params_)\n",
        "      check_model.fit(X_train, Y_train)\n",
        "      \n",
        "      y_true, y_pred = Y_test, check_model.predict(X_test)\n",
        "\n",
        "      # save again the scores\n",
        "      dic_result = {}\n",
        "      dic_result['eval_type']= ['TEST GRID SEARCH RESULTS']\n",
        "      dic_result['dataset_details']= [which_ds]\n",
        "      dic_result['model_name']=  [model.__name__ ]\n",
        "      dic_result['top_parameters']= [str(selected_model.best_params_)]\n",
        "      dic_result['balanced_accuracy'] = [round(balanced_accuracy_score(y_true, y_pred), 3)]\n",
        "      dic_result['accuracy'] = [round(accuracy_score(y_true, y_pred), 3)]\n",
        "      dic_result['precision'] = [round(precision_score(y_true, y_pred, average=\"macro\"), 3)]\n",
        "      dic_result['recall'] = [round(recall_score(y_true, y_pred, average=\"macro\"), 3)]\n",
        "      dic_result['f1'] = [round(f1_score(y_true, y_pred, average=\"macro\"),3)]\n",
        "      \n",
        "      df_result = pd.DataFrame.from_dict(dic_result)\n",
        "      print('Results on test eval: ', df_result)\n",
        "      write_results(df_result,model.__name__ +'/', 'test_on_'+score)"
      ]
    },
    {
      "cell_type": "markdown",
      "metadata": {
        "id": "aT8xxZKCAi0l"
      },
      "source": [
        "### Running section"
      ]
    },
    {
      "cell_type": "code",
      "execution_count": null,
      "metadata": {
        "id": "t73Zit9ZAmuO"
      },
      "outputs": [],
      "source": [
        "# for each dataset\n",
        "# for each model\n",
        "# create all parameters and other details to pass to the fun\n",
        "# run training and saving function "
      ]
    },
    {
      "cell_type": "markdown",
      "metadata": {
        "id": "7TTKj6F5Qe5_"
      },
      "source": [
        "Parameters definition"
      ]
    },
    {
      "cell_type": "code",
      "execution_count": null,
      "metadata": {
        "colab": {
          "base_uri": "https://localhost:8080/"
        },
        "id": "JJC2B6SJ9u-G",
        "outputId": "c287b1e6-8877-4c56-c44b-b3e2e11344d7"
      },
      "outputs": [
        {
          "output_type": "stream",
          "name": "stdout",
          "text": [
            "[{'multi_class': ['ovr'], 'penalty': ['elasticnet'], 'solver': ['saga'], 'max_iter': [2000], 'C': [0.1, 0.01], 'l1_ratio': [0.01, 0.001]}]\n",
            "[{'kernel': ['poly'], 'degree': [1, 2, 3], 'gamma': [0.001, 0.01, 0.1, 1, 10, 100], 'max_iter': [1000], 'C': [0.001, 0.01, 0.1, 1, 10, 100]}]\n"
          ]
        }
      ],
      "source": [
        "# Configuration of parameters and name\n",
        "\n",
        "#GridSearch attributes\n",
        "# Set the parameters by cross-validation\n",
        "#'l1_ratio':[0.5], 'solver': ['saga'], 'penalty':['elasticnet']\n",
        "logreg_tuned_parameters = [{\n",
        "    'multi_class':  ['ovr'],\n",
        "    'penalty':['elasticnet'],\n",
        "    'solver': ['saga'], \n",
        "    'max_iter':[2000], \n",
        "    'C':  [ 0.1, 0.01], #[10 ** i for i in range(-2,1)],\n",
        "    'l1_ratio': [ 0.01, 0.001] #[10 ** i for i in range(-2,1)] #'l1_ratio':[0.5]}]\n",
        "    }]\n",
        "\n",
        "svc_tuned_parameters = [{\n",
        "    'kernel':['poly'], \n",
        "    'degree': [1, 2, 3], \n",
        "    'gamma': [10 ** i for i in range(-3,3)],\n",
        "    'max_iter':[1000], \n",
        "    'C': [10 ** i for i in range(-3,3)]}]\n",
        "\n",
        "scores = [ \"accuracy\", \"balanced_accuracy\"]\n",
        "\n",
        "print(logreg_tuned_parameters)\n",
        "print(svc_tuned_parameters)"
      ]
    },
    {
      "cell_type": "markdown",
      "metadata": {
        "id": "KZOJmt1FQtng"
      },
      "source": [
        "dataset 1 with fs pam50"
      ]
    },
    {
      "cell_type": "code",
      "execution_count": null,
      "metadata": {
        "id": "uod6Beh-RwYC"
      },
      "outputs": [],
      "source": [
        "# EVALUATION with LOGISTIC REGRESSION\n",
        "training_and_saving_after_cv_and_single_split('pam_fs', X_train_pam, Y_train_pam, X_test_pam, Y_test_pam, scores, logreg_tuned_parameters, LogisticRegression)\n",
        "\n",
        "# EVALUATION with SVC\n",
        "training_and_saving_after_cv_and_single_split('pam_fs', X_train_pam, Y_train_pam, X_test_pam, Y_test_pam, scores, svc_tuned_parameters, SVC)"
      ]
    },
    {
      "cell_type": "markdown",
      "metadata": {
        "id": "jxh1TZjRRAah"
      },
      "source": [
        "dataset 2 with fs limma50"
      ]
    },
    {
      "cell_type": "code",
      "execution_count": null,
      "metadata": {
        "id": "B2IJxv7TR9Cm"
      },
      "outputs": [],
      "source": [
        "# EVALUATION with LOGISTIC REGRESSION\n",
        "training_and_saving_after_cv_and_single_split('limma_fs', X_train_limma, Y_train_limma, X_test_limma, Y_test_limma, scores, logreg_tuned_parameters, LogisticRegression)\n",
        "\n",
        "# EVALUATION with SVC\n",
        "training_and_saving_after_cv_and_single_split('limma_fs', X_train_limma, Y_train_limma, X_test_limma, Y_test_limma, scores, svc_tuned_parameters, SVC)"
      ]
    },
    {
      "cell_type": "markdown",
      "metadata": {
        "id": "5DGtf1JsREFE"
      },
      "source": [
        "dataset 3 with fs pam50 and loge preprocessing"
      ]
    },
    {
      "cell_type": "code",
      "execution_count": null,
      "metadata": {
        "id": "_i31qIc-SFz4"
      },
      "outputs": [],
      "source": [
        "# EVALUATION with LOGISTIC REGRESSION\n",
        "training_and_saving_after_cv_and_single_split('pam_fs_loge', X_train_pam_loge, Y_train_pam_loge, X_test_pam_loge, Y_test_pam_loge, scores, logreg_tuned_parameters, LogisticRegression)\n",
        "\n",
        "# EVALUATION with SVC\n",
        "training_and_saving_after_cv_and_single_split('pam_fs_loge', X_train_pam_loge, Y_train_pam_loge, X_test_pam_loge, Y_test_pam_loge, scores, svc_tuned_parameters, SVC)"
      ]
    },
    {
      "cell_type": "markdown",
      "metadata": {
        "id": "5pRSP59wRKaz"
      },
      "source": [
        "dataset 4 with fs limma50 and loge preprocessing"
      ]
    },
    {
      "cell_type": "code",
      "execution_count": null,
      "metadata": {
        "id": "RMUwDPEMSOcU"
      },
      "outputs": [],
      "source": [
        "# EVALUATION with LOGISTIC REGRESSION\n",
        "training_and_saving_after_cv_and_single_split('limma_fs_loge', X_train_limma_loge, Y_train_limma_loge, X_test_limma_loge, Y_test_limma_loge, scores, logreg_tuned_parameters, LogisticRegression)\n",
        "\n",
        "# EVALUATION with SVC\n",
        "training_and_saving_after_cv_and_single_split('limma_fs_loge', X_train_limma_loge, Y_train_limma_loge, X_test_limma_loge, Y_test_limma_loge, scores, svc_tuned_parameters, SVC)"
      ]
    },
    {
      "cell_type": "markdown",
      "metadata": {
        "id": "W80lqJ29RNj6"
      },
      "source": [
        "dataset 5 with fs pam50 and log2 preprocessing"
      ]
    },
    {
      "cell_type": "code",
      "execution_count": null,
      "metadata": {
        "id": "Sbu6NgA5SngU"
      },
      "outputs": [],
      "source": [
        "# EVALUATION with LOGISTIC REGRESSION\n",
        "training_and_saving_after_cv_and_single_split('pam_fs_log2', X_train_pam_log2, Y_train_pam_log2, X_test_pam_log2, Y_test_pam_log2, scores, logreg_tuned_parameters, LogisticRegression)\n",
        "\n",
        "# EVALUATION with SVC\n",
        "training_and_saving_after_cv_and_single_split('pam_fs_log2', X_train_pam_log2, Y_train_pam_log2, X_test_pam_log2, Y_test_pam_log2, scores, svc_tuned_parameters, SVC)"
      ]
    },
    {
      "cell_type": "markdown",
      "metadata": {
        "id": "FJaN3i-vRPpf"
      },
      "source": [
        "dataset 6 with fs limma50 and log2 preprocessing"
      ]
    },
    {
      "cell_type": "code",
      "execution_count": null,
      "metadata": {
        "id": "B4CQks0HSaxv"
      },
      "outputs": [],
      "source": [
        "# EVALUATION with LOGISTIC REGRESSION\n",
        "training_and_saving_after_cv_and_single_split('limma_fs_log2', X_train_limma_log2, Y_train_limma_log2, X_test_limma_log2, Y_test_limma_log2, scores, logreg_tuned_parameters, LogisticRegression)\n",
        "\n",
        "# EVALUATION with SVC\n",
        "training_and_saving_after_cv_and_single_split('limma_fs_log2', X_train_limma_log2, Y_train_limma_log2, X_test_limma_log2, Y_test_limma_log2, scores, svc_tuned_parameters, SVC)"
      ]
    },
    {
      "cell_type": "markdown",
      "metadata": {
        "id": "f69mEPIFRYoI"
      },
      "source": [
        "DATASET 7 CON FS REDUCED FROM PAM50 E LOG PREPROCESSING (choose the best between 2 and e)\n",
        "\n"
      ]
    },
    {
      "cell_type": "code",
      "execution_count": null,
      "metadata": {
        "id": "JOm1HG0DSs9x"
      },
      "outputs": [],
      "source": [
        "# EVALUATION with LOGISTIC REGRESSION\n",
        "training_and_saving_after_cv_and_single_split('pam_fs_loge_sel', X_train_pam_loge_sel, Y_train_pam_loge_sel, X_test_pam_loge_sel, Y_test_pam_loge_sel, scores, logreg_tuned_parameters, LogisticRegression)\n",
        "\n",
        "# EVALUATION with SVC\n",
        "training_and_saving_after_cv_and_single_split('pam_fs_loge_sel', X_train_pam_loge_sel, Y_train_pam_loge_sel, X_test_pam_loge_sel, Y_test_pam_loge_sel, scores, svc_tuned_parameters, SVC)"
      ]
    },
    {
      "cell_type": "markdown",
      "metadata": {
        "id": "yxv981xjRc6M"
      },
      "source": [
        "DATASET 8 CON FS REDUCED FROM LIMMA50 E LOG PREPROCESSING (choose the best between 2 and e)"
      ]
    },
    {
      "cell_type": "code",
      "execution_count": null,
      "metadata": {
        "id": "2KpvI_uoStrS"
      },
      "outputs": [],
      "source": [
        "# EVALUATION with LOGISTIC REGRESSION\n",
        "training_and_saving_after_cv_and_single_split('limma_fs_loge_sel', X_train_limma_loge_sel, Y_train_limma_loge_sel, X_test_limma_loge_sel, Y_test_limma_loge_sel, scores, logreg_tuned_parameters, LogisticRegression)\n",
        "\n",
        "# EVALUATION with SVC\n",
        "\n",
        "training_and_saving_after_cv_and_single_split('limma_fs_loge_sel', X_train_limma_loge_sel, Y_train_limma_loge_sel, X_test_limma_loge_sel, Y_test_limma_loge_sel, scores, svc_tuned_parameters, SVC)"
      ]
    },
    {
      "cell_type": "markdown",
      "metadata": {
        "id": "eghtWH-YRht3"
      },
      "source": [
        "DATASET 9 CON FS NEW E LOG PREPROCESSING (choose best try e for now)"
      ]
    },
    {
      "cell_type": "code",
      "execution_count": null,
      "metadata": {
        "id": "S-vSuXT-9d0T"
      },
      "outputs": [],
      "source": [
        "# EVALUATION with LOGISTIC REGRESSION\n",
        "training_and_saving_after_cv_and_single_split('lasso_fs_loge_sel', X_train_lasso, Y_train_lasso, X_test_lasso, Y_test_lasso, scores, logreg_tuned_parameters, LogisticRegression)\n",
        "\n",
        "# EVALUATION with SVC\n",
        "training_and_saving_after_cv_and_single_split('lasso_fs_loge_sel', X_train_lasso, Y_train_lasso, X_test_lasso, Y_test_lasso, scores, svc_tuned_parameters, SVC)"
      ]
    },
    {
      "cell_type": "markdown",
      "source": [
        "### DATASET 10 CON FS NEW with mrmr for feature space E LOG PREPROCESSING (choose best try e for now)"
      ],
      "metadata": {
        "id": "63sFmjh6A5aj"
      }
    },
    {
      "cell_type": "code",
      "source": [
        "# EVALUATION with LOGISTIC REGRESSION\n",
        "training_and_saving_after_cv_and_single_split('mrmr_fs_log2_sel', X_train_mrmr, Y_train_mrmr, X_test_mrmr, Y_test_mrmr, scores, logreg_tuned_parameters, LogisticRegression)\n",
        "\n",
        "# EVALUATION with SVC\n",
        "training_and_saving_after_cv_and_single_split('mnrmr_fs_log2_sel', X_train_mrmr, Y_train_mrmr, X_test_mrmr, Y_test_mrmr, scores, svc_tuned_parameters, SVC)"
      ],
      "metadata": {
        "id": "5GqTIK3xA9i3"
      },
      "execution_count": null,
      "outputs": []
    },
    {
      "cell_type": "markdown",
      "metadata": {
        "id": "KixnzBjpWpdr"
      },
      "source": [
        "### Random Forest Classifier exploration"
      ]
    },
    {
      "cell_type": "code",
      "execution_count": null,
      "metadata": {
        "colab": {
          "base_uri": "https://localhost:8080/"
        },
        "id": "mt73tc7fFOGx",
        "outputId": "acf8fd22-52ed-4176-a690-7ee7450ea2f5"
      },
      "outputs": [
        {
          "output_type": "stream",
          "name": "stdout",
          "text": [
            "Tuning hyper-parameters for accuracy\n"
          ]
        }
      ],
      "source": [
        "# EVALUATION with RandomForrest\n",
        "from sklearn.ensemble import RandomForestClassifier\n",
        "rf_values= [{\n",
        "    'criterion': ['gini', 'log_loss'],\n",
        "    'min_samples_split': [2,5,10],\n",
        "    'bootstrap': [True, False],\n",
        "    'max_depth': [ 100, None],\n",
        "    'max_features': ['auto', 'sqrt'],\n",
        "    'min_samples_leaf': [1, 2, 4],\n",
        "    'min_samples_split': [2, 5, 10],\n",
        "    'n_estimators': [200, 600, 800,1200]\n",
        "    }]\n",
        "\n"
      ]
    },
    {
      "cell_type": "code",
      "source": [
        "# dataset 1\n",
        "training_and_saving_after_cv_and_single_split('pam_fs', X_train_pam, Y_train_pam, X_test_pam, Y_test_pam, scores,rf_values,model=RandomForestClassifier)"
      ],
      "metadata": {
        "id": "gliPdxn7A_GC"
      },
      "execution_count": null,
      "outputs": []
    },
    {
      "cell_type": "code",
      "source": [
        "# dataset 2\n",
        "training_and_saving_after_cv_and_single_split('limma_fs', X_train_limma, Y_train_limma, X_test_limma, Y_test_limma, scores, rf_values,model=RandomForestClassifier)"
      ],
      "metadata": {
        "id": "briy4bqcBBuz"
      },
      "execution_count": null,
      "outputs": []
    },
    {
      "cell_type": "code",
      "source": [
        "# dataset 3\n",
        "training_and_saving_after_cv_and_single_split('pam_fs_loge', X_train_pam_loge, Y_train_pam_loge, X_test_pam_loge, Y_test_pam_loge, scores, rf_values,model=RandomForestClassifier)"
      ],
      "metadata": {
        "id": "cz7k_vMlBDOc"
      },
      "execution_count": null,
      "outputs": []
    },
    {
      "cell_type": "code",
      "source": [
        "# dataset 4\n",
        "training_and_saving_after_cv_and_single_split('limma_fs_loge', X_train_limma_loge, Y_train_limma_loge, X_test_limma_loge, Y_test_limma_loge, scores, rf_values,model=RandomForestClassifier)"
      ],
      "metadata": {
        "id": "AFfiBmiOBFKg"
      },
      "execution_count": null,
      "outputs": []
    },
    {
      "cell_type": "code",
      "source": [
        "# dataset 5\n",
        "training_and_saving_after_cv_and_single_split('pam_fs_log2', X_train_pam_log2, Y_train_pam_log2, X_test_pam_log2, Y_test_pam_log2, scores, rf_values,model=RandomForestClassifier)"
      ],
      "metadata": {
        "id": "gndFCDcsBGmg"
      },
      "execution_count": null,
      "outputs": []
    },
    {
      "cell_type": "code",
      "source": [
        "# dataset 6\n",
        "training_and_saving_after_cv_and_single_split('limma_fs_log2', X_train_limma_log2, Y_train_limma_log2, X_test_limma_log2, Y_test_limma_log2, scores, rf_values,model=RandomForestClassifier)"
      ],
      "metadata": {
        "id": "RG4LRcCZBH6K"
      },
      "execution_count": null,
      "outputs": []
    },
    {
      "cell_type": "code",
      "source": [
        "# dataset 7\n",
        "training_and_saving_after_cv_and_single_split('pam_fs_loge_sel', X_train_pam_log2_sel, Y_train_pam_log2_sel, X_test_pam_log2_sel, Y_test_pam_log2_sel, scores, rf_values,model=RandomForestClassifier)"
      ],
      "metadata": {
        "id": "ERAEsq4WBJux"
      },
      "execution_count": null,
      "outputs": []
    },
    {
      "cell_type": "code",
      "source": [
        "# dataset 8\n",
        "training_and_saving_after_cv_and_single_split('limma_fs_loge_sel', X_train_limma_log2_sel, Y_train_limma_log2_sel, X_test_limma_log2_sel, Y_test_limma_log2_sel, scores, rf_values,model=RandomForestClassifier)"
      ],
      "metadata": {
        "id": "dWl7YIoTBLkb"
      },
      "execution_count": null,
      "outputs": []
    },
    {
      "cell_type": "code",
      "source": [
        "# dataset 9\n",
        "training_and_saving_after_cv_and_single_split('lasso_fs_loge_sel', X_train_lasso, Y_train_lasso, X_test_lasso, Y_test_lasso, scores, rf_values,model=RandomForestClassifier)"
      ],
      "metadata": {
        "id": "zl9xC6kCBOsn"
      },
      "execution_count": null,
      "outputs": []
    },
    {
      "cell_type": "code",
      "source": [
        "# dataset 10\n",
        "training_and_saving_after_cv_and_single_split('mrmr_fs_log2_sel', X_train_mrmr, Y_train_mrmr, X_test_mrmr, Y_test_mrmr, scores, rf_values,model=RandomForestClassifier)"
      ],
      "metadata": {
        "id": "WamICPOkekcU"
      },
      "execution_count": null,
      "outputs": []
    }
  ],
  "metadata": {
    "colab": {
      "provenance": [],
      "collapsed_sections": []
    },
    "kernelspec": {
      "display_name": "Python 3",
      "name": "python3"
    },
    "language_info": {
      "name": "python"
    }
  },
  "nbformat": 4,
  "nbformat_minor": 0
}